{
  "nbformat": 4,
  "nbformat_minor": 0,
  "metadata": {
    "colab": {
      "provenance": [],
      "include_colab_link": true
    },
    "kernelspec": {
      "name": "python3",
      "display_name": "Python 3"
    },
    "accelerator": "GPU"
  },
  "cells": [
    {
      "cell_type": "markdown",
      "metadata": {
        "id": "view-in-github",
        "colab_type": "text"
      },
      "source": [
        "<a href=\"https://colab.research.google.com/github/Dayaanaly/Dayaanaly/blob/main/L10_Transferencia_de_Aprendizaje.ipynb\" target=\"_parent\"><img src=\"https://colab.research.google.com/assets/colab-badge.svg\" alt=\"Open In Colab\"/></a>"
      ]
    },
    {
      "cell_type": "markdown",
      "metadata": {
        "id": "4zp_0_xZvw4K"
      },
      "source": [
        "# Transferencia de aprendizaje\n",
        "## Dr. Carlos Villaseñor"
      ]
    },
    {
      "cell_type": "markdown",
      "metadata": {
        "id": "qMJem6ZuwknJ"
      },
      "source": [
        "Importar bibliotecas\n",
        "\n"
      ]
    },
    {
      "cell_type": "code",
      "metadata": {
        "id": "mtXnehErvsnR"
      },
      "source": [
        "import pandas as pd\n",
        "import numpy as np\n",
        "import os\n",
        "import tensorflow as tf\n",
        "import matplotlib.pyplot as plt\n",
        "\n",
        "from tensorflow.keras.layers import Dense, GlobalAveragePooling2D\n",
        "from tensorflow.keras.applications import MobileNet\n",
        "from tensorflow.keras.preprocessing import image\n",
        "from tensorflow.keras.applications.mobilenet import preprocess_input\n",
        "from tensorflow.keras.preprocessing.image import ImageDataGenerator\n",
        "from tensorflow.keras.models import Model\n",
        "from tensorflow.keras.optimizers import Adam\n"
      ],
      "execution_count": 17,
      "outputs": []
    },
    {
      "cell_type": "code",
      "source": [
        "from google.colab import drive\n",
        "drive.mount('/content/drive')"
      ],
      "metadata": {
        "colab": {
          "base_uri": "https://localhost:8080/"
        },
        "id": "3q4wID10Srcs",
        "outputId": "68d3b3fe-963f-48aa-8e26-9f1b36c815bf"
      },
      "execution_count": 18,
      "outputs": [
        {
          "output_type": "stream",
          "name": "stdout",
          "text": [
            "Drive already mounted at /content/drive; to attempt to forcibly remount, call drive.mount(\"/content/drive\", force_remount=True).\n"
          ]
        }
      ]
    },
    {
      "cell_type": "markdown",
      "metadata": {
        "id": "shvPrpcuw43_"
      },
      "source": [
        "Importar MobileNet base pero descartaremos las últimas capa"
      ]
    },
    {
      "cell_type": "code",
      "metadata": {
        "id": "4Q6iGl62xPNJ",
        "colab": {
          "base_uri": "https://localhost:8080/"
        },
        "outputId": "60209bcf-1b96-4474-ed64-c86a5e76e7b3"
      },
      "source": [
        "base_model=MobileNet(weights='imagenet',include_top=False)"
      ],
      "execution_count": 19,
      "outputs": [
        {
          "output_type": "stream",
          "name": "stderr",
          "text": [
            "<ipython-input-19-38e91c8c2631>:1: UserWarning: `input_shape` is undefined or non-square, or `rows` is not in [128, 160, 192, 224]. Weights for input shape (224, 224) will be loaded as the default.\n",
            "  base_model=MobileNet(weights='imagenet',include_top=False)\n"
          ]
        }
      ]
    },
    {
      "cell_type": "markdown",
      "metadata": {
        "id": "aCeLxtlEyCJV"
      },
      "source": [
        "Crear nueva Red Neuronal"
      ]
    },
    {
      "cell_type": "code",
      "metadata": {
        "id": "AYQX0UAbyHzA"
      },
      "source": [
        "x=base_model.output\n",
        "x=GlobalAveragePooling2D()(x)\n",
        "x=Dense(256,activation='relu')(x)\n",
        "x=Dense(64,activation='relu')(x)\n",
        "preds=Dense(5, activation='softmax')(x)"
      ],
      "execution_count": 20,
      "outputs": []
    },
    {
      "cell_type": "markdown",
      "metadata": {
        "id": "b9fBbvIzzJG6"
      },
      "source": [
        "Pegar Redes Neuronales"
      ]
    },
    {
      "cell_type": "code",
      "metadata": {
        "id": "PkdA8UWWzSrS"
      },
      "source": [
        "model=Model(inputs=base_model.input, outputs=preds)"
      ],
      "execution_count": 21,
      "outputs": []
    },
    {
      "cell_type": "markdown",
      "metadata": {
        "id": "5Sg7ZRB0zq-i"
      },
      "source": [
        "Definir que capas se entrenan"
      ]
    },
    {
      "cell_type": "code",
      "metadata": {
        "id": "OGYwhdoFzqVk"
      },
      "source": [
        "for layer in model.layers[:-5]:\n",
        "    layer.trainable=False\n",
        "for layer in model.layers[-5:]:\n",
        "    layer.trainable=True"
      ],
      "execution_count": 22,
      "outputs": []
    },
    {
      "cell_type": "markdown",
      "metadata": {
        "id": "4-39u5Pp1Lkj"
      },
      "source": [
        "Cargar datos nuevos\n",
        "\n",
        "- Carge el archivo 'train.zip' en la pestaña archivos en el lateral izquierdo\n",
        "- Corra la siguiente linea para descomprimir los archivos"
      ]
    },
    {
      "cell_type": "code",
      "source": [
        "!wget \"https://drive.google.com/drive/u/2/folders/1YlwoyENoga0aV38I7f_wsTnWj32oFMhS\""
      ],
      "metadata": {
        "id": "0QYdeEsZfmr2",
        "colab": {
          "base_uri": "https://localhost:8080/"
        },
        "outputId": "f7e108e2-c8b0-4734-aafe-c31027559fff"
      },
      "execution_count": 31,
      "outputs": [
        {
          "output_type": "stream",
          "name": "stdout",
          "text": [
            "--2025-04-27 08:37:32--  https://drive.google.com/drive/u/2/folders/1YlwoyENoga0aV38I7f_wsTnWj32oFMhS\n",
            "Resolving drive.google.com (drive.google.com)... 74.125.137.102, 74.125.137.101, 74.125.137.113, ...\n",
            "Connecting to drive.google.com (drive.google.com)|74.125.137.102|:443... connected.\n",
            "HTTP request sent, awaiting response... 302 Found\n",
            "Location: https://drive.google.com/drive/folders/1YlwoyENoga0aV38I7f_wsTnWj32oFMhS [following]\n",
            "--2025-04-27 08:37:33--  https://drive.google.com/drive/folders/1YlwoyENoga0aV38I7f_wsTnWj32oFMhS\n",
            "Reusing existing connection to drive.google.com:443.\n",
            "HTTP request sent, awaiting response... 302 Found\n",
            "Location: https://accounts.google.com/ServiceLogin?service=wise&passive=1209600&osid=1&continue=https://drive.google.com/drive/folders/1YlwoyENoga0aV38I7f_wsTnWj32oFMhS&followup=https://drive.google.com/drive/folders/1YlwoyENoga0aV38I7f_wsTnWj32oFMhS [following]\n",
            "--2025-04-27 08:37:33--  https://accounts.google.com/ServiceLogin?service=wise&passive=1209600&osid=1&continue=https://drive.google.com/drive/folders/1YlwoyENoga0aV38I7f_wsTnWj32oFMhS&followup=https://drive.google.com/drive/folders/1YlwoyENoga0aV38I7f_wsTnWj32oFMhS\n",
            "Resolving accounts.google.com (accounts.google.com)... 142.250.141.84, 2607:f8b0:4023:c06::54\n",
            "Connecting to accounts.google.com (accounts.google.com)|142.250.141.84|:443... connected.\n",
            "HTTP request sent, awaiting response... 302 Found\n",
            "Location: https://accounts.google.com/InteractiveLogin?continue=https://drive.google.com/drive/folders/1YlwoyENoga0aV38I7f_wsTnWj32oFMhS&followup=https://drive.google.com/drive/folders/1YlwoyENoga0aV38I7f_wsTnWj32oFMhS&osid=1&passive=1209600&service=wise&ifkv=ASKV5MhS7JLtrvVQ3dHhmLrCnlhqlhnJv6D8k5Chj6lxlwEOZdvx3XKlC8evmO1LfvY8Rxk4zAKd9Q [following]\n",
            "--2025-04-27 08:37:33--  https://accounts.google.com/InteractiveLogin?continue=https://drive.google.com/drive/folders/1YlwoyENoga0aV38I7f_wsTnWj32oFMhS&followup=https://drive.google.com/drive/folders/1YlwoyENoga0aV38I7f_wsTnWj32oFMhS&osid=1&passive=1209600&service=wise&ifkv=ASKV5MhS7JLtrvVQ3dHhmLrCnlhqlhnJv6D8k5Chj6lxlwEOZdvx3XKlC8evmO1LfvY8Rxk4zAKd9Q\n",
            "Reusing existing connection to accounts.google.com:443.\n",
            "HTTP request sent, awaiting response... 302 Moved Temporarily\n",
            "Location: https://accounts.google.com/v3/signin/identifier?continue=https%3A%2F%2Fdrive.google.com%2Fdrive%2Ffolders%2F1YlwoyENoga0aV38I7f_wsTnWj32oFMhS&followup=https%3A%2F%2Fdrive.google.com%2Fdrive%2Ffolders%2F1YlwoyENoga0aV38I7f_wsTnWj32oFMhS&ifkv=ASKV5Mg7WUGfu-qfJU4viO5VZBTZSHYdmxT7Saa6zZZijG2BHJb_WTzS5ZM0fwgjLxPLh-Dulip--w&osid=1&passive=1209600&service=wise&flowName=WebLiteSignIn&flowEntry=ServiceLogin&dsh=S906090830%3A1745743053542502 [following]\n",
            "--2025-04-27 08:37:33--  https://accounts.google.com/v3/signin/identifier?continue=https%3A%2F%2Fdrive.google.com%2Fdrive%2Ffolders%2F1YlwoyENoga0aV38I7f_wsTnWj32oFMhS&followup=https%3A%2F%2Fdrive.google.com%2Fdrive%2Ffolders%2F1YlwoyENoga0aV38I7f_wsTnWj32oFMhS&ifkv=ASKV5Mg7WUGfu-qfJU4viO5VZBTZSHYdmxT7Saa6zZZijG2BHJb_WTzS5ZM0fwgjLxPLh-Dulip--w&osid=1&passive=1209600&service=wise&flowName=WebLiteSignIn&flowEntry=ServiceLogin&dsh=S906090830%3A1745743053542502\n",
            "Reusing existing connection to accounts.google.com:443.\n",
            "HTTP request sent, awaiting response... 200 OK\n",
            "Length: unspecified [text/html]\n",
            "Saving to: ‘1YlwoyENoga0aV38I7f_wsTnWj32oFMhS’\n",
            "\n",
            "1YlwoyENoga0aV38I7f     [ <=>                ] 539.74K  --.-KB/s    in 0.08s   \n",
            "\n",
            "2025-04-27 08:37:33 (6.93 MB/s) - ‘1YlwoyENoga0aV38I7f_wsTnWj32oFMhS’ saved [552689]\n",
            "\n"
          ]
        }
      ]
    },
    {
      "cell_type": "code",
      "metadata": {
        "id": "fwbljBNp1hKK",
        "colab": {
          "base_uri": "https://localhost:8080/"
        },
        "outputId": "4170a446-d2ff-4216-97b4-51dc16aef6c6"
      },
      "source": [
        "!unzip train.zip -d'/content/drive/MyDrive/Tarea IA/'"
      ],
      "execution_count": 38,
      "outputs": [
        {
          "output_type": "stream",
          "name": "stdout",
          "text": [
            "Archive:  train.zip\n",
            "   creating: /content/drive/MyDrive/Tarea IA/train/\n",
            "   creating: /content/drive/MyDrive/Tarea IA/train/cats/\n",
            "  inflating: /content/drive/MyDrive/Tarea IA/train/cats/2Q== (1).jpg  \n",
            "  inflating: /content/drive/MyDrive/Tarea IA/train/cats/2Q== (2).jpg  \n",
            "  inflating: /content/drive/MyDrive/Tarea IA/train/cats/2Q== (3).jpg  \n",
            "  inflating: /content/drive/MyDrive/Tarea IA/train/cats/2Q== (4).jpg  \n",
            "  inflating: /content/drive/MyDrive/Tarea IA/train/cats/2Q==.jpg  \n",
            "  inflating: /content/drive/MyDrive/Tarea IA/train/cats/9k= (1).jpg  \n",
            "  inflating: /content/drive/MyDrive/Tarea IA/train/cats/9k= (2).jpg  \n",
            "  inflating: /content/drive/MyDrive/Tarea IA/train/cats/9k=.jpg  \n",
            "  inflating: /content/drive/MyDrive/Tarea IA/train/cats/images (1).jpg  \n",
            "  inflating: /content/drive/MyDrive/Tarea IA/train/cats/images (10).jpg  \n",
            "  inflating: /content/drive/MyDrive/Tarea IA/train/cats/images (100).jpg  \n",
            "  inflating: /content/drive/MyDrive/Tarea IA/train/cats/images (11).jpg  \n",
            "  inflating: /content/drive/MyDrive/Tarea IA/train/cats/images (12).jpg  \n",
            "  inflating: /content/drive/MyDrive/Tarea IA/train/cats/images (13).jpg  \n",
            "  inflating: /content/drive/MyDrive/Tarea IA/train/cats/images (14).jpg  \n",
            "  inflating: /content/drive/MyDrive/Tarea IA/train/cats/images (15).jpg  \n",
            "  inflating: /content/drive/MyDrive/Tarea IA/train/cats/images (16).jpg  \n",
            "  inflating: /content/drive/MyDrive/Tarea IA/train/cats/images (17).jpg  \n",
            "  inflating: /content/drive/MyDrive/Tarea IA/train/cats/images (18).jpg  \n",
            "  inflating: /content/drive/MyDrive/Tarea IA/train/cats/images (19).jpg  \n",
            "  inflating: /content/drive/MyDrive/Tarea IA/train/cats/images (2).jpg  \n",
            "  inflating: /content/drive/MyDrive/Tarea IA/train/cats/images (20).jpg  \n",
            "  inflating: /content/drive/MyDrive/Tarea IA/train/cats/images (21).jpg  \n",
            "  inflating: /content/drive/MyDrive/Tarea IA/train/cats/images (22).jpg  \n",
            "  inflating: /content/drive/MyDrive/Tarea IA/train/cats/images (24).jpg  \n",
            "  inflating: /content/drive/MyDrive/Tarea IA/train/cats/images (25).jpg  \n",
            "  inflating: /content/drive/MyDrive/Tarea IA/train/cats/images (26).jpg  \n",
            "  inflating: /content/drive/MyDrive/Tarea IA/train/cats/images (27).jpg  \n",
            "  inflating: /content/drive/MyDrive/Tarea IA/train/cats/images (28).jpg  \n",
            "  inflating: /content/drive/MyDrive/Tarea IA/train/cats/images (29).jpg  \n",
            "  inflating: /content/drive/MyDrive/Tarea IA/train/cats/images (3).jpg  \n",
            "  inflating: /content/drive/MyDrive/Tarea IA/train/cats/images (30).jpg  \n",
            "  inflating: /content/drive/MyDrive/Tarea IA/train/cats/images (33).jpg  \n",
            "  inflating: /content/drive/MyDrive/Tarea IA/train/cats/images (34).jpg  \n",
            "  inflating: /content/drive/MyDrive/Tarea IA/train/cats/images (35).jpg  \n",
            "  inflating: /content/drive/MyDrive/Tarea IA/train/cats/images (36).jpg  \n",
            "  inflating: /content/drive/MyDrive/Tarea IA/train/cats/images (37).jpg  \n",
            "  inflating: /content/drive/MyDrive/Tarea IA/train/cats/images (38).jpg  \n",
            "  inflating: /content/drive/MyDrive/Tarea IA/train/cats/images (39).jpg  \n",
            "  inflating: /content/drive/MyDrive/Tarea IA/train/cats/images (4).jpg  \n",
            "  inflating: /content/drive/MyDrive/Tarea IA/train/cats/images (40).jpg  \n",
            "  inflating: /content/drive/MyDrive/Tarea IA/train/cats/images (41).jpg  \n",
            "  inflating: /content/drive/MyDrive/Tarea IA/train/cats/images (42).jpg  \n",
            "  inflating: /content/drive/MyDrive/Tarea IA/train/cats/images (43).jpg  \n",
            "  inflating: /content/drive/MyDrive/Tarea IA/train/cats/images (44).jpg  \n",
            "  inflating: /content/drive/MyDrive/Tarea IA/train/cats/images (45).jpg  \n",
            "  inflating: /content/drive/MyDrive/Tarea IA/train/cats/images (46).jpg  \n",
            "  inflating: /content/drive/MyDrive/Tarea IA/train/cats/images (47).jpg  \n",
            "  inflating: /content/drive/MyDrive/Tarea IA/train/cats/images (48).jpg  \n",
            "  inflating: /content/drive/MyDrive/Tarea IA/train/cats/images (49).jpg  \n",
            "  inflating: /content/drive/MyDrive/Tarea IA/train/cats/images (5).jpg  \n",
            "  inflating: /content/drive/MyDrive/Tarea IA/train/cats/images (50).jpg  \n",
            "  inflating: /content/drive/MyDrive/Tarea IA/train/cats/images (51).jpg  \n",
            "  inflating: /content/drive/MyDrive/Tarea IA/train/cats/images (52).jpg  \n",
            "  inflating: /content/drive/MyDrive/Tarea IA/train/cats/images (53).jpg  \n",
            "  inflating: /content/drive/MyDrive/Tarea IA/train/cats/images (54).jpg  \n",
            "  inflating: /content/drive/MyDrive/Tarea IA/train/cats/images (55).jpg  \n",
            "  inflating: /content/drive/MyDrive/Tarea IA/train/cats/images (56).jpg  \n",
            "  inflating: /content/drive/MyDrive/Tarea IA/train/cats/images (57).jpg  \n",
            "  inflating: /content/drive/MyDrive/Tarea IA/train/cats/images (58).jpg  \n",
            "  inflating: /content/drive/MyDrive/Tarea IA/train/cats/images (59).jpg  \n",
            "  inflating: /content/drive/MyDrive/Tarea IA/train/cats/images (6).jpg  \n",
            "  inflating: /content/drive/MyDrive/Tarea IA/train/cats/images (60).jpg  \n",
            "  inflating: /content/drive/MyDrive/Tarea IA/train/cats/images (61).jpg  \n",
            "  inflating: /content/drive/MyDrive/Tarea IA/train/cats/images (62).jpg  \n",
            "  inflating: /content/drive/MyDrive/Tarea IA/train/cats/images (63).jpg  \n",
            "  inflating: /content/drive/MyDrive/Tarea IA/train/cats/images (64).jpg  \n",
            "  inflating: /content/drive/MyDrive/Tarea IA/train/cats/images (65).jpg  \n",
            "  inflating: /content/drive/MyDrive/Tarea IA/train/cats/images (66).jpg  \n",
            "  inflating: /content/drive/MyDrive/Tarea IA/train/cats/images (67).jpg  \n",
            "  inflating: /content/drive/MyDrive/Tarea IA/train/cats/images (68).jpg  \n",
            "  inflating: /content/drive/MyDrive/Tarea IA/train/cats/images (69).jpg  \n",
            "  inflating: /content/drive/MyDrive/Tarea IA/train/cats/images (7).jpg  \n",
            "  inflating: /content/drive/MyDrive/Tarea IA/train/cats/images (70).jpg  \n",
            "  inflating: /content/drive/MyDrive/Tarea IA/train/cats/images (71).jpg  \n",
            "  inflating: /content/drive/MyDrive/Tarea IA/train/cats/images (72).jpg  \n",
            "  inflating: /content/drive/MyDrive/Tarea IA/train/cats/images (73).jpg  \n",
            "  inflating: /content/drive/MyDrive/Tarea IA/train/cats/images (74).jpg  \n",
            "  inflating: /content/drive/MyDrive/Tarea IA/train/cats/images (75).jpg  \n",
            "  inflating: /content/drive/MyDrive/Tarea IA/train/cats/images (76).jpg  \n",
            "  inflating: /content/drive/MyDrive/Tarea IA/train/cats/images (77).jpg  \n",
            "  inflating: /content/drive/MyDrive/Tarea IA/train/cats/images (78).jpg  \n",
            "  inflating: /content/drive/MyDrive/Tarea IA/train/cats/images (79).jpg  \n",
            "  inflating: /content/drive/MyDrive/Tarea IA/train/cats/images (8).jpg  \n",
            "  inflating: /content/drive/MyDrive/Tarea IA/train/cats/images (80).jpg  \n",
            "  inflating: /content/drive/MyDrive/Tarea IA/train/cats/images (81).jpg  \n",
            "  inflating: /content/drive/MyDrive/Tarea IA/train/cats/images (82).jpg  \n",
            "  inflating: /content/drive/MyDrive/Tarea IA/train/cats/images (83).jpg  \n",
            "  inflating: /content/drive/MyDrive/Tarea IA/train/cats/images (84).jpg  \n",
            "  inflating: /content/drive/MyDrive/Tarea IA/train/cats/images (85).jpg  \n",
            "  inflating: /content/drive/MyDrive/Tarea IA/train/cats/images (88).jpg  \n",
            "  inflating: /content/drive/MyDrive/Tarea IA/train/cats/images (89).jpg  \n",
            "  inflating: /content/drive/MyDrive/Tarea IA/train/cats/images (9).jpg  \n",
            "  inflating: /content/drive/MyDrive/Tarea IA/train/cats/images (91).jpg  \n",
            "  inflating: /content/drive/MyDrive/Tarea IA/train/cats/images (92).jpg  \n",
            "  inflating: /content/drive/MyDrive/Tarea IA/train/cats/images (93).jpg  \n",
            "  inflating: /content/drive/MyDrive/Tarea IA/train/cats/images (94).jpg  \n",
            "  inflating: /content/drive/MyDrive/Tarea IA/train/cats/images (95).jpg  \n",
            "  inflating: /content/drive/MyDrive/Tarea IA/train/cats/images (96).jpg  \n",
            "  inflating: /content/drive/MyDrive/Tarea IA/train/cats/images (97).jpg  \n",
            "  inflating: /content/drive/MyDrive/Tarea IA/train/cats/images (98).jpg  \n",
            "  inflating: /content/drive/MyDrive/Tarea IA/train/cats/images (99).jpg  \n",
            "  inflating: /content/drive/MyDrive/Tarea IA/train/cats/images.jpg  \n",
            "  inflating: /content/drive/MyDrive/Tarea IA/train/cats/Z (1).jpg  \n",
            "  inflating: /content/drive/MyDrive/Tarea IA/train/cats/Z (2).jpg  \n",
            "  inflating: /content/drive/MyDrive/Tarea IA/train/cats/Z.jpg  \n",
            "   creating: /content/drive/MyDrive/Tarea IA/train/dogs/\n",
            "  inflating: /content/drive/MyDrive/Tarea IA/train/dogs/2Q== (1).jpg  \n",
            "  inflating: /content/drive/MyDrive/Tarea IA/train/dogs/2Q== (2).jpg  \n",
            "  inflating: /content/drive/MyDrive/Tarea IA/train/dogs/2Q==.jpg  \n",
            "  inflating: /content/drive/MyDrive/Tarea IA/train/dogs/9k= (1).jpg  \n",
            "  inflating: /content/drive/MyDrive/Tarea IA/train/dogs/9k= (2).jpg  \n",
            "  inflating: /content/drive/MyDrive/Tarea IA/train/dogs/9k=.jpg  \n",
            "  inflating: /content/drive/MyDrive/Tarea IA/train/dogs/images (1).jpg  \n",
            "  inflating: /content/drive/MyDrive/Tarea IA/train/dogs/images (10).jpg  \n",
            "  inflating: /content/drive/MyDrive/Tarea IA/train/dogs/images (11).jpg  \n",
            "  inflating: /content/drive/MyDrive/Tarea IA/train/dogs/images (12).jpg  \n",
            "  inflating: /content/drive/MyDrive/Tarea IA/train/dogs/images (13).jpg  \n",
            "  inflating: /content/drive/MyDrive/Tarea IA/train/dogs/images (14).jpg  \n",
            "  inflating: /content/drive/MyDrive/Tarea IA/train/dogs/images (15).jpg  \n",
            "  inflating: /content/drive/MyDrive/Tarea IA/train/dogs/images (16).jpg  \n",
            "  inflating: /content/drive/MyDrive/Tarea IA/train/dogs/images (17).jpg  \n",
            "  inflating: /content/drive/MyDrive/Tarea IA/train/dogs/images (18).jpg  \n",
            "  inflating: /content/drive/MyDrive/Tarea IA/train/dogs/images (19).jpg  \n",
            "  inflating: /content/drive/MyDrive/Tarea IA/train/dogs/images (2).jpg  \n",
            "  inflating: /content/drive/MyDrive/Tarea IA/train/dogs/images (20).jpg  \n",
            "  inflating: /content/drive/MyDrive/Tarea IA/train/dogs/images (21).jpg  \n",
            "  inflating: /content/drive/MyDrive/Tarea IA/train/dogs/images (22).jpg  \n",
            "  inflating: /content/drive/MyDrive/Tarea IA/train/dogs/images (23).jpg  \n",
            "  inflating: /content/drive/MyDrive/Tarea IA/train/dogs/images (24).jpg  \n",
            "  inflating: /content/drive/MyDrive/Tarea IA/train/dogs/images (25).jpg  \n",
            "  inflating: /content/drive/MyDrive/Tarea IA/train/dogs/images (26).jpg  \n",
            "  inflating: /content/drive/MyDrive/Tarea IA/train/dogs/images (27).jpg  \n",
            "  inflating: /content/drive/MyDrive/Tarea IA/train/dogs/images (3).jpg  \n",
            "  inflating: /content/drive/MyDrive/Tarea IA/train/dogs/images (4).jpg  \n",
            "  inflating: /content/drive/MyDrive/Tarea IA/train/dogs/images (5).jpg  \n",
            "  inflating: /content/drive/MyDrive/Tarea IA/train/dogs/images (6).jpg  \n",
            "  inflating: /content/drive/MyDrive/Tarea IA/train/dogs/images (7).jpg  \n",
            "  inflating: /content/drive/MyDrive/Tarea IA/train/dogs/images (8).jpg  \n",
            "  inflating: /content/drive/MyDrive/Tarea IA/train/dogs/images (9).jpg  \n",
            "  inflating: /content/drive/MyDrive/Tarea IA/train/dogs/images.jpg  \n",
            "  inflating: /content/drive/MyDrive/Tarea IA/train/dogs/Z.jpg  \n",
            "   creating: /content/drive/MyDrive/Tarea IA/train/horses/\n",
            "  inflating: /content/drive/MyDrive/Tarea IA/train/horses/2Q== (1).jpg  \n",
            "  inflating: /content/drive/MyDrive/Tarea IA/train/horses/2Q== (2).jpg  \n",
            "  inflating: /content/drive/MyDrive/Tarea IA/train/horses/2Q==.jpg  \n",
            "  inflating: /content/drive/MyDrive/Tarea IA/train/horses/9k= (1).jpg  \n",
            "  inflating: /content/drive/MyDrive/Tarea IA/train/horses/9k=.jpg  \n",
            "  inflating: /content/drive/MyDrive/Tarea IA/train/horses/images (1).jpg  \n",
            "  inflating: /content/drive/MyDrive/Tarea IA/train/horses/images (10).jpg  \n",
            "  inflating: /content/drive/MyDrive/Tarea IA/train/horses/images (11).jpg  \n",
            "  inflating: /content/drive/MyDrive/Tarea IA/train/horses/images (12).jpg  \n",
            "  inflating: /content/drive/MyDrive/Tarea IA/train/horses/images (13).jpg  \n",
            "  inflating: /content/drive/MyDrive/Tarea IA/train/horses/images (14).jpg  \n",
            "  inflating: /content/drive/MyDrive/Tarea IA/train/horses/images (15).jpg  \n",
            "  inflating: /content/drive/MyDrive/Tarea IA/train/horses/images (16).jpg  \n",
            "  inflating: /content/drive/MyDrive/Tarea IA/train/horses/images (17).jpg  \n",
            "  inflating: /content/drive/MyDrive/Tarea IA/train/horses/images (18).jpg  \n",
            "  inflating: /content/drive/MyDrive/Tarea IA/train/horses/images (19).jpg  \n",
            "  inflating: /content/drive/MyDrive/Tarea IA/train/horses/images (2).jpg  \n",
            "  inflating: /content/drive/MyDrive/Tarea IA/train/horses/images (20).jpg  \n",
            "  inflating: /content/drive/MyDrive/Tarea IA/train/horses/images (21).jpg  \n",
            "  inflating: /content/drive/MyDrive/Tarea IA/train/horses/images (22).jpg  \n",
            "  inflating: /content/drive/MyDrive/Tarea IA/train/horses/images (23).jpg  \n",
            "  inflating: /content/drive/MyDrive/Tarea IA/train/horses/images (24).jpg  \n",
            "  inflating: /content/drive/MyDrive/Tarea IA/train/horses/images (25).jpg  \n",
            "  inflating: /content/drive/MyDrive/Tarea IA/train/horses/images (26).jpg  \n",
            "  inflating: /content/drive/MyDrive/Tarea IA/train/horses/images (27).jpg  \n",
            "  inflating: /content/drive/MyDrive/Tarea IA/train/horses/images (28).jpg  \n",
            "  inflating: /content/drive/MyDrive/Tarea IA/train/horses/images (29).jpg  \n",
            "  inflating: /content/drive/MyDrive/Tarea IA/train/horses/images (3).jpg  \n",
            "  inflating: /content/drive/MyDrive/Tarea IA/train/horses/images (30).jpg  \n",
            "  inflating: /content/drive/MyDrive/Tarea IA/train/horses/images (31).jpg  \n",
            "  inflating: /content/drive/MyDrive/Tarea IA/train/horses/images (32).jpg  \n",
            "  inflating: /content/drive/MyDrive/Tarea IA/train/horses/images (33).jpg  \n",
            "  inflating: /content/drive/MyDrive/Tarea IA/train/horses/images (34).jpg  \n",
            "  inflating: /content/drive/MyDrive/Tarea IA/train/horses/images (35).jpg  \n",
            "  inflating: /content/drive/MyDrive/Tarea IA/train/horses/images (36).jpg  \n",
            "  inflating: /content/drive/MyDrive/Tarea IA/train/horses/images (37).jpg  \n",
            "  inflating: /content/drive/MyDrive/Tarea IA/train/horses/images (38).jpg  \n",
            "  inflating: /content/drive/MyDrive/Tarea IA/train/horses/images (39).jpg  \n",
            "  inflating: /content/drive/MyDrive/Tarea IA/train/horses/images (4).jpg  \n",
            "  inflating: /content/drive/MyDrive/Tarea IA/train/horses/images (40).jpg  \n",
            "  inflating: /content/drive/MyDrive/Tarea IA/train/horses/images (41).jpg  \n",
            "  inflating: /content/drive/MyDrive/Tarea IA/train/horses/images (42).jpg  \n",
            "  inflating: /content/drive/MyDrive/Tarea IA/train/horses/images (43).jpg  \n",
            "  inflating: /content/drive/MyDrive/Tarea IA/train/horses/images (44).jpg  \n",
            "  inflating: /content/drive/MyDrive/Tarea IA/train/horses/images (45).jpg  \n",
            "  inflating: /content/drive/MyDrive/Tarea IA/train/horses/images (46).jpg  \n",
            "  inflating: /content/drive/MyDrive/Tarea IA/train/horses/images (47).jpg  \n",
            "  inflating: /content/drive/MyDrive/Tarea IA/train/horses/images (48).jpg  \n",
            "  inflating: /content/drive/MyDrive/Tarea IA/train/horses/images (49).jpg  \n",
            "  inflating: /content/drive/MyDrive/Tarea IA/train/horses/images (5).jpg  \n",
            "  inflating: /content/drive/MyDrive/Tarea IA/train/horses/images (6).jpg  \n",
            "  inflating: /content/drive/MyDrive/Tarea IA/train/horses/images (7).jpg  \n",
            "  inflating: /content/drive/MyDrive/Tarea IA/train/horses/images (8).jpg  \n",
            "  inflating: /content/drive/MyDrive/Tarea IA/train/horses/images (9).jpg  \n",
            "  inflating: /content/drive/MyDrive/Tarea IA/train/horses/images.jpg  \n",
            "  inflating: /content/drive/MyDrive/Tarea IA/train/horses/Z.jpg  \n"
          ]
        }
      ]
    },
    {
      "cell_type": "code",
      "metadata": {
        "colab": {
          "base_uri": "https://localhost:8080/"
        },
        "outputId": "22a257c4-de03-4715-caf1-bcdf140ed1b3",
        "id": "yZDGqc33bl3W"
      },
      "source": [
        "# Entrenamiento con augmentaciones\n",
        "datagen = ImageDataGenerator(\n",
        "    preprocessing_function=preprocess_input,\n",
        "    zoom_range=0.2,\n",
        "    horizontal_flip=True,\n",
        "    width_shift_range=0.2,\n",
        "    height_shift_range=0.2,\n",
        "    validation_split=0.2    # <-- ojo aquí\n",
        ")\n",
        "\n",
        "train_generator = datagen.flow_from_directory(\n",
        "    '/content/drive/MyDrive/Tarea IA/train',\n",
        "    target_size=(224, 224),\n",
        "    batch_size=32,\n",
        "    class_mode='categorical',\n",
        "    subset='training',      # 80% para entrenar\n",
        "    shuffle=True\n",
        ")\n",
        "\n",
        "validation_generator = datagen.flow_from_directory(\n",
        "    '/content/drive/MyDrive/Tarea IA2/test',\n",
        "    target_size=(224, 224),\n",
        "    batch_size=32,\n",
        "    class_mode='categorical',\n",
        "    subset='validation',    # 20% para validar\n",
        "    shuffle=False\n",
        ")"
      ],
      "execution_count": 41,
      "outputs": [
        {
          "output_type": "stream",
          "name": "stdout",
          "text": [
            "Found 158 images belonging to 3 classes.\n",
            "Found 0 images belonging to 0 classes.\n"
          ]
        }
      ]
    },
    {
      "cell_type": "code",
      "metadata": {
        "colab": {
          "base_uri": "https://localhost:8080/"
        },
        "outputId": "d5e448a5-502d-451f-99e7-463809559298",
        "id": "vq9hxw5Ybjnq"
      },
      "source": [
        "# Entrenamiento con augmentaciones\n",
        "datagen = ImageDataGenerator(\n",
        "    preprocessing_function=preprocess_input,\n",
        "    zoom_range=0.2,\n",
        "    horizontal_flip=True,\n",
        "    width_shift_range=0.2,\n",
        "    height_shift_range=0.2,\n",
        "    validation_split=0.2    # <-- ojo aquí\n",
        ")\n",
        "\n",
        "train_generator = datagen.flow_from_directory(\n",
        "    '/content/drive/MyDrive/Tarea IA/train',\n",
        "    target_size=(224, 224),\n",
        "    batch_size=32,\n",
        "    class_mode='categorical',\n",
        "    subset='training',      # 80% para entrenar\n",
        "    shuffle=True\n",
        ")\n",
        "\n",
        "validation_generator = datagen.flow_from_directory(\n",
        "    '/content/drive/MyDrive/Tarea IA2/train',\n",
        "    target_size=(224, 224),\n",
        "    batch_size=32,\n",
        "    class_mode='categorical',\n",
        "    subset='validation',    # 20% para validar\n",
        "    shuffle=False\n",
        ")"
      ],
      "execution_count": 42,
      "outputs": [
        {
          "output_type": "stream",
          "name": "stdout",
          "text": [
            "Found 158 images belonging to 3 classes.\n",
            "Found 0 images belonging to 0 classes.\n"
          ]
        }
      ]
    },
    {
      "cell_type": "markdown",
      "metadata": {
        "id": "qKTX6gWt14cy"
      },
      "source": [
        "Crear generador desde carpeta"
      ]
    },
    {
      "cell_type": "code",
      "metadata": {
        "id": "p7oy8_sZ2Mc-",
        "colab": {
          "base_uri": "https://localhost:8080/"
        },
        "outputId": "cb79a54f-ff94-4c75-b56d-0b82f1b84f70"
      },
      "source": [
        "# Entrenamiento con augmentaciones\n",
        "datagen = ImageDataGenerator(\n",
        "    preprocessing_function=preprocess_input,\n",
        "    zoom_range=0.2,\n",
        "    horizontal_flip=True,\n",
        "    width_shift_range=0.2,\n",
        "    height_shift_range=0.2,\n",
        "    validation_split=0.2    # <-- ojo aquí\n",
        ")\n",
        "\n",
        "train_generator = datagen.flow_from_directory(\n",
        "    '/content/drive/MyDrive/Tarea IA/train',\n",
        "    target_size=(224, 224),\n",
        "    batch_size=32,\n",
        "    class_mode='categorical',\n",
        "    subset='training',      # 80% para entrenar\n",
        "    shuffle=True\n",
        ")\n",
        "\n",
        "validation_generator = datagen.flow_from_directory(\n",
        "    '/content/drive/MyDrive/Tarea IA2/train',\n",
        "    target_size=(224, 224),\n",
        "    batch_size=32,\n",
        "    class_mode='categorical',\n",
        "    subset='validation',    # 20% para validar\n",
        "    shuffle=False\n",
        ")"
      ],
      "execution_count": 43,
      "outputs": [
        {
          "output_type": "stream",
          "name": "stdout",
          "text": [
            "Found 158 images belonging to 3 classes.\n",
            "Found 0 images belonging to 0 classes.\n"
          ]
        }
      ]
    },
    {
      "cell_type": "markdown",
      "metadata": {
        "id": "F9zw5rV33psh"
      },
      "source": [
        "Compilar Modelo y entrenar desde carpeta"
      ]
    },
    {
      "cell_type": "code",
      "metadata": {
        "id": "efD515JO3zlL",
        "colab": {
          "base_uri": "https://localhost:8080/",
          "height": 468
        },
        "outputId": "cc57de9c-18f6-4c66-e81a-78d5f47467c2"
      },
      "source": [
        "model.compile(optimizer='Adam',loss='categorical_crossentropy',\n",
        "              metrics=['accuracy'])\n",
        "\n",
        "step_size_train=train_generator.n//train_generator.batch_size\n",
        "\n",
        "model.fit(train_generator,\n",
        "          steps_per_epoch=step_size_train,\n",
        "          epochs=6)"
      ],
      "execution_count": 44,
      "outputs": [
        {
          "output_type": "stream",
          "name": "stderr",
          "text": [
            "/usr/local/lib/python3.11/dist-packages/keras/src/trainers/data_adapters/py_dataset_adapter.py:121: UserWarning: Your `PyDataset` class should call `super().__init__(**kwargs)` in its constructor. `**kwargs` can include `workers`, `use_multiprocessing`, `max_queue_size`. Do not pass these arguments to `fit()`, as they will be ignored.\n",
            "  self._warn_if_super_not_called()\n"
          ]
        },
        {
          "output_type": "stream",
          "name": "stdout",
          "text": [
            "Epoch 1/6\n"
          ]
        },
        {
          "output_type": "error",
          "ename": "ValueError",
          "evalue": "Arguments `target` and `output` must have the same shape. Received: target.shape=(None, 3), output.shape=(None, 5)",
          "traceback": [
            "\u001b[0;31m---------------------------------------------------------------------------\u001b[0m",
            "\u001b[0;31mValueError\u001b[0m                                Traceback (most recent call last)",
            "\u001b[0;32m<ipython-input-44-e621dd530913>\u001b[0m in \u001b[0;36m<cell line: 0>\u001b[0;34m()\u001b[0m\n\u001b[1;32m      4\u001b[0m \u001b[0mstep_size_train\u001b[0m\u001b[0;34m=\u001b[0m\u001b[0mtrain_generator\u001b[0m\u001b[0;34m.\u001b[0m\u001b[0mn\u001b[0m\u001b[0;34m//\u001b[0m\u001b[0mtrain_generator\u001b[0m\u001b[0;34m.\u001b[0m\u001b[0mbatch_size\u001b[0m\u001b[0;34m\u001b[0m\u001b[0;34m\u001b[0m\u001b[0m\n\u001b[1;32m      5\u001b[0m \u001b[0;34m\u001b[0m\u001b[0m\n\u001b[0;32m----> 6\u001b[0;31m model.fit(train_generator,\n\u001b[0m\u001b[1;32m      7\u001b[0m           \u001b[0msteps_per_epoch\u001b[0m\u001b[0;34m=\u001b[0m\u001b[0mstep_size_train\u001b[0m\u001b[0;34m,\u001b[0m\u001b[0;34m\u001b[0m\u001b[0;34m\u001b[0m\u001b[0m\n\u001b[1;32m      8\u001b[0m           epochs=6)\n",
            "\u001b[0;32m/usr/local/lib/python3.11/dist-packages/keras/src/utils/traceback_utils.py\u001b[0m in \u001b[0;36merror_handler\u001b[0;34m(*args, **kwargs)\u001b[0m\n\u001b[1;32m    120\u001b[0m             \u001b[0;31m# To get the full stack trace, call:\u001b[0m\u001b[0;34m\u001b[0m\u001b[0;34m\u001b[0m\u001b[0m\n\u001b[1;32m    121\u001b[0m             \u001b[0;31m# `keras.config.disable_traceback_filtering()`\u001b[0m\u001b[0;34m\u001b[0m\u001b[0;34m\u001b[0m\u001b[0m\n\u001b[0;32m--> 122\u001b[0;31m             \u001b[0;32mraise\u001b[0m \u001b[0me\u001b[0m\u001b[0;34m.\u001b[0m\u001b[0mwith_traceback\u001b[0m\u001b[0;34m(\u001b[0m\u001b[0mfiltered_tb\u001b[0m\u001b[0;34m)\u001b[0m \u001b[0;32mfrom\u001b[0m \u001b[0;32mNone\u001b[0m\u001b[0;34m\u001b[0m\u001b[0;34m\u001b[0m\u001b[0m\n\u001b[0m\u001b[1;32m    123\u001b[0m         \u001b[0;32mfinally\u001b[0m\u001b[0;34m:\u001b[0m\u001b[0;34m\u001b[0m\u001b[0;34m\u001b[0m\u001b[0m\n\u001b[1;32m    124\u001b[0m             \u001b[0;32mdel\u001b[0m \u001b[0mfiltered_tb\u001b[0m\u001b[0;34m\u001b[0m\u001b[0;34m\u001b[0m\u001b[0m\n",
            "\u001b[0;32m/usr/local/lib/python3.11/dist-packages/keras/src/backend/tensorflow/nn.py\u001b[0m in \u001b[0;36mcategorical_crossentropy\u001b[0;34m(target, output, from_logits, axis)\u001b[0m\n\u001b[1;32m    658\u001b[0m     \u001b[0;32mfor\u001b[0m \u001b[0me1\u001b[0m\u001b[0;34m,\u001b[0m \u001b[0me2\u001b[0m \u001b[0;32min\u001b[0m \u001b[0mzip\u001b[0m\u001b[0;34m(\u001b[0m\u001b[0mtarget\u001b[0m\u001b[0;34m.\u001b[0m\u001b[0mshape\u001b[0m\u001b[0;34m,\u001b[0m \u001b[0moutput\u001b[0m\u001b[0;34m.\u001b[0m\u001b[0mshape\u001b[0m\u001b[0;34m)\u001b[0m\u001b[0;34m:\u001b[0m\u001b[0;34m\u001b[0m\u001b[0;34m\u001b[0m\u001b[0m\n\u001b[1;32m    659\u001b[0m         \u001b[0;32mif\u001b[0m \u001b[0me1\u001b[0m \u001b[0;32mis\u001b[0m \u001b[0;32mnot\u001b[0m \u001b[0;32mNone\u001b[0m \u001b[0;32mand\u001b[0m \u001b[0me2\u001b[0m \u001b[0;32mis\u001b[0m \u001b[0;32mnot\u001b[0m \u001b[0;32mNone\u001b[0m \u001b[0;32mand\u001b[0m \u001b[0me1\u001b[0m \u001b[0;34m!=\u001b[0m \u001b[0me2\u001b[0m\u001b[0;34m:\u001b[0m\u001b[0;34m\u001b[0m\u001b[0;34m\u001b[0m\u001b[0m\n\u001b[0;32m--> 660\u001b[0;31m             raise ValueError(\n\u001b[0m\u001b[1;32m    661\u001b[0m                 \u001b[0;34m\"Arguments `target` and `output` must have the same shape. \"\u001b[0m\u001b[0;34m\u001b[0m\u001b[0;34m\u001b[0m\u001b[0m\n\u001b[1;32m    662\u001b[0m                 \u001b[0;34m\"Received: \"\u001b[0m\u001b[0;34m\u001b[0m\u001b[0;34m\u001b[0m\u001b[0m\n",
            "\u001b[0;31mValueError\u001b[0m: Arguments `target` and `output` must have the same shape. Received: target.shape=(None, 3), output.shape=(None, 5)"
          ]
        }
      ]
    }
  ]
}